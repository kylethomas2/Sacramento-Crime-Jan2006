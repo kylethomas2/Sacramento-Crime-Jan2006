{
 "cells": [
  {
   "cell_type": "markdown",
   "metadata": {},
   "source": [
    "***Sacramento Crime Data (Jan 2006)***\n",
    "\n"
   ]
  },
  {
   "cell_type": "markdown",
   "metadata": {},
   "source": [
    "**Getting Started**\n",
    "\n",
    "Loading Python session, importing PySpark, and loading respective Spark packages. Declaring Spark Session for pulling and analyzing data:"
   ]
  },
  {
   "cell_type": "code",
   "execution_count": 3,
   "metadata": {},
   "outputs": [],
   "source": [
    "import pyspark\n",
    "\n",
    "from pyspark.sql import SparkSession\n",
    "from pyspark.sql import SQLContext\n",
    "from pyspark.sql.types import *\n",
    "\n",
    "import sys\n",
    "import os\n",
    "import matplotlib.pyplot as plt\n",
    "import pandas as pd\n",
    "\n",
    "if __name__ == '__main__':\n",
    "    scSpark = SparkSession \\\n",
    "        .builder \\\n",
    "        .appName(\"reading csv\") \\\n",
    "        .getOrCreate()"
   ]
  },
  {
   "cell_type": "markdown",
   "metadata": {},
   "source": [
    "**Loading Data**\n",
    "\n",
    "Loading in sample data as dataframe provided from email and creating view for analysis from table:\n"
   ]
  },
  {
   "cell_type": "code",
   "execution_count": 4,
   "metadata": {},
   "outputs": [],
   "source": [
    "data_file = 'D:\\ThomasData\\Documents\\crime.csv'\n",
    "df = scSpark.read.csv(data_file, header=True, sep=\",\").cache()\n",
    "df.createOrReplaceTempView(\"crime\")"
   ]
  },
  {
   "cell_type": "markdown",
   "metadata": {},
   "source": [
    "**Understanding the Dataset**\n",
    "\n",
    "Let's take a look at the headers and the top 10 rows of this dataset. This will give us a better sense of what we're working with:\n"
   ]
  },
  {
   "cell_type": "code",
   "execution_count": 5,
   "metadata": {},
   "outputs": [
    {
     "name": "stdout",
     "output_type": "stream",
     "text": [
      "+-------------+-------------------+--------+----------+----+--------------------+-------------+-----------+------------+\n",
      "|    cdatetime|            address|district|      beat|grid|          crimedescr|ucr_ncic_code|   latitude|   longitude|\n",
      "+-------------+-------------------+--------+----------+----+--------------------+-------------+-----------+------------+\n",
      "|1/1/2006 0:00| 3108 OCCIDENTAL DR|       3|3C        |1115|10851(A)VC TAKE V...|         2404|38.55042047|-121.3914158|\n",
      "|1/1/2006 0:00|2082 EXPEDITION WAY|       5|5A        |1512|459 PC  BURGLARY ...|         2204|38.47350069|-121.4901858|\n",
      "|1/1/2006 0:00|         4 PALEN CT|       2|2A        | 212|10851(A)VC TAKE V...|         2404|38.65784584|-121.4621009|\n",
      "|1/1/2006 0:00|     22 BECKFORD CT|       6|6C        |1443|476 PC PASS FICTI...|         2501|38.50677377|-121.4269508|\n",
      "|1/1/2006 0:00|   3421 AUBURN BLVD|       2|2A        | 508|459 PC  BURGLARY-...|         2299| 38.6374478|-121.3846125|\n",
      "|1/1/2006 0:00| 5301 BONNIEMAE WAY|       6|6B        |1084|530.5 PC USE PERS...|         2604|38.52697863|-121.4513383|\n",
      "|1/1/2006 0:00|      2217 16TH AVE|       4|4A        | 957|459 PC  BURGLARY ...|         2299|  38.537173|-121.4875774|\n",
      "|1/1/2006 0:00|          3547 P ST|       3|3C        | 853|484 PC   PETTY TH...|         2308|38.56433456|-121.4618826|\n",
      "|1/1/2006 0:00|   3421 AUBURN BLVD|       2|2A        | 508|459 PC  BURGLARY ...|         2203| 38.6374478|-121.3846125|\n",
      "|1/1/2006 0:00|  1326 HELMSMAN WAY|       1|1B        | 444|1708 US   THEFT O...|         2310|38.60960217|-121.4918375|\n",
      "+-------------+-------------------+--------+----------+----+--------------------+-------------+-----------+------------+\n",
      "\n"
     ]
    }
   ],
   "source": [
    "sqlDF_10 = scSpark.sql(\"SELECT cdatetime, address, district, beat, grid, crimedescr, ucr_ncic_code, latitude, longitude FROM crime limit 10\")\n",
    "sqlDF_10.show()"
   ]
  },
  {
   "cell_type": "markdown",
   "metadata": {},
   "source": [
    "**Saving as a Table**\n",
    "\n",
    "Let's save this dataframe as a table to our current file path:"
   ]
  },
  {
   "cell_type": "code",
   "execution_count": null,
   "metadata": {},
   "outputs": [],
   "source": [
    "df.write.saveAsTable(\"crimes\")"
   ]
  },
  {
   "cell_type": "markdown",
   "metadata": {},
   "source": [
    "**Understanding Crime Locations**\n",
    "\n",
    "Observing the top 10 addresses with the most amount of crimes that occured:"
   ]
  },
  {
   "cell_type": "code",
   "execution_count": 7,
   "metadata": {},
   "outputs": [
    {
     "name": "stdout",
     "output_type": "stream",
     "text": [
      "+-----------+--------------------+\n",
      "|Crime_Count|             address|\n",
      "+-----------+--------------------+\n",
      "|         47|    3555 AUBURN BLVD|\n",
      "|         31|      1689 ARDEN WAY|\n",
      "|         29|  5770 FREEPORT BLVD|\n",
      "|         26| 2750 SUTTERVILLE RD|\n",
      "|         23|       2250 68TH AVE|\n",
      "|         21|      1695 ARDEN WAY|\n",
      "|         20|       6879 14TH AVE|\n",
      "|         18|            715 L ST|\n",
      "|         16|FRANKLIN BLVD / F...|\n",
      "|         16|      3500 FLORIN RD|\n",
      "+-----------+--------------------+\n",
      "\n"
     ]
    }
   ],
   "source": [
    "scSpark.sql(\"SELECT count(cdatetime) as Crime_Count, address FROM crime GROUP BY address ORDER BY Crime_Count DESC LIMIT 10\").show()"
   ]
  },
  {
   "cell_type": "markdown",
   "metadata": {},
   "source": [
    "**Understanding Crime Locations (Cont.)**\n",
    "\n",
    "Observing the amount of crimes that occured in each district:"
   ]
  },
  {
   "cell_type": "code",
   "execution_count": 8,
   "metadata": {},
   "outputs": [
    {
     "name": "stdout",
     "output_type": "stream",
     "text": [
      "+-----------+--------+\n",
      "|Crime_Count|district|\n",
      "+-----------+--------+\n",
      "|       1575|       3|\n",
      "|       1462|       2|\n",
      "|       1359|       6|\n",
      "|       1161|       4|\n",
      "|       1159|       5|\n",
      "|        868|       1|\n",
      "+-----------+--------+\n",
      "\n"
     ]
    }
   ],
   "source": [
    "scSpark.sql(\"SELECT count(cdatetime) as Crime_Count, district FROM crime GROUP BY district ORDER BY Crime_Count DESC\").show()"
   ]
  },
  {
   "cell_type": "markdown",
   "metadata": {},
   "source": [
    "**Understanding Crime Types**\n",
    "\n",
    "I would like to see the count of crime occurrences by the description of the actual crimes. Firstly, we should check how many different types of crimes that occurred so we can understand the variation of crime types. \n",
    "\n",
    "Secondly, let's take a look at the top 20 crimes committed:"
   ]
  },
  {
   "cell_type": "code",
   "execution_count": 9,
   "metadata": {},
   "outputs": [
    {
     "name": "stdout",
     "output_type": "stream",
     "text": [
      "+-----------------------+\n",
      "|DistinctCrimeType_Count|\n",
      "+-----------------------+\n",
      "|                    304|\n",
      "+-----------------------+\n",
      "\n",
      "+-----------+--------------------+\n",
      "|Crime_Count|          crimedescr|\n",
      "+-----------+--------------------+\n",
      "|        653|10851(A)VC TAKE V...|\n",
      "|        463|TOWED/STORED VEH-...|\n",
      "|        462|459 PC  BURGLARY ...|\n",
      "|        434|TOWED/STORED VEHICLE|\n",
      "|        356|459 PC  BURGLARY ...|\n",
      "|        268|      MISSING PERSON|\n",
      "|        223|10851 VC AUTO THE...|\n",
      "|        195|594(B)(2)(A) VAND...|\n",
      "|        182|TRAFFIC-ACCIDENT ...|\n",
      "|        175|TRAFFIC-ACCIDENT-...|\n",
      "|        135|459 PC  BURGLARY ...|\n",
      "|        119|484 PETTY THEFT/L...|\n",
      "|        117|594(B)(1)PC  VAND...|\n",
      "|        116|     CASUALTY REPORT|\n",
      "|        106|5150 WI DANGER SE...|\n",
      "|        103|    20002(A) HIT/RUN|\n",
      "|         99|211 PC  ROBBERY U...|\n",
      "|         99|11364 HS POSS DRU...|\n",
      "|         99|484 PC   PETTY TH...|\n",
      "|         90|NON INJ HR/MAIL O...|\n",
      "+-----------+--------------------+\n",
      "\n"
     ]
    }
   ],
   "source": [
    "scSpark.sql(\"SELECT count(distinct(crimedescr)) as DistinctCrimeType_Count FROM crime \").show()\n",
    "scSpark.sql(\"SELECT count(cdatetime) as Crime_Count, crimedescr FROM crime GROUP BY crimedescr ORDER BY Crime_Count DESC LIMIT 20\").show()"
   ]
  },
  {
   "cell_type": "markdown",
   "metadata": {},
   "source": [
    "**Understanding Crime Types (Cont.)**\n",
    "\n",
    "Well, the above table is not as helpful as I would have liked. These crime type descriptions are supplemented with some type of alphanumeric codes, including numbers, letter combinations, and parathenses. I think we should clean this data to continue our analysis. Let's take a stab by using the *trim, substring, and if statements* found in *Spark SQL*:\n"
   ]
  },
  {
   "cell_type": "code",
   "execution_count": 10,
   "metadata": {},
   "outputs": [
    {
     "name": "stdout",
     "output_type": "stream",
     "text": [
      "+--------------------+--------------------+-------------+--------+-------------------+\n",
      "|          crimedescr|     crimeDescrFixed|    cdatetime|district|            address|\n",
      "+--------------------+--------------------+-------------+--------+-------------------+\n",
      "|10851(A)VC TAKE V...|  TAKE VEH W/O OWNER|1/1/2006 0:00|       3| 3108 OCCIDENTAL DR|\n",
      "|459 PC  BURGLARY ...|  BURGLARY RESIDENCE|1/1/2006 0:00|       5|2082 EXPEDITION WAY|\n",
      "|10851(A)VC TAKE V...|  TAKE VEH W/O OWNER|1/1/2006 0:00|       2|         4 PALEN CT|\n",
      "|476 PC PASS FICTI...|PASS FICTICIOUS C...|1/1/2006 0:00|       6|     22 BECKFORD CT|\n",
      "|459 PC  BURGLARY-...|BURGLARY-UNSPECIFIED|1/1/2006 0:00|       2|   3421 AUBURN BLVD|\n",
      "+--------------------+--------------------+-------------+--------+-------------------+\n",
      "\n",
      "+-----------+--------------------+\n",
      "|Crime_Count|     crimeDescrFixed|\n",
      "+-----------+--------------------+\n",
      "|        653|  TAKE VEH W/O OWNER|\n",
      "|        463|TOWED/STORED VEH-...|\n",
      "|        462|    BURGLARY VEHICLE|\n",
      "|        434|TOWED/STORED VEHICLE|\n",
      "|        356|  BURGLARY RESIDENCE|\n",
      "|        268|      MISSING PERSON|\n",
      "|        223|   AUTO THEFT LOCATE|\n",
      "|        195|(2)(A) VANDALISM/...|\n",
      "|        182|TRAFFIC-ACCIDENT ...|\n",
      "|        175|TRAFFIC-ACCIDENT-...|\n",
      "|        135|   BURGLARY BUSINESS|\n",
      "|        119|484 PETTY THEFT/L...|\n",
      "|        117|     VANDALISM +$400|\n",
      "|        116|      ASUALTY REPORT|\n",
      "|        106|5150 WI DANGER SE...|\n",
      "|        103|             HIT/RUN|\n",
      "|         99|11364 HS POSS DRU...|\n",
      "|         99| ROBBERY UNSPECIFIED|\n",
      "|         99|  PETTY THEFT/INSIDE|\n",
      "|         90|NON INJ HR/MAIL O...|\n",
      "+-----------+--------------------+\n",
      "\n"
     ]
    }
   ],
   "source": [
    "descrSub = scSpark.sql(\"SELECT crimedescr, trim(trim(LEADING 'C' FROM trim(substring(crimedescr, IF(locate('VC',crimedescr) > locate('PC',crimedescr) AND locate('VC',crimedescr) > locate(')',crimedescr), locate('VC',crimedescr), IF(locate(')',crimedescr) > locate('PC',crimedescr) AND locate(')',crimedescr) > locate('VC',crimedescr), locate(')',crimedescr), locate('PC',crimedescr)))+1)))) AS crimeDescrFixed, cdatetime, district, address FROM crime\")\n",
    "descrSub.createOrReplaceTempView(\"crimeDescrClean_1\")\n",
    "scSpark.sql(\"SELECT * FROM crimeDescrClean_1 LIMIT 5\").show()\n",
    "scSpark.sql(\"SELECT count(cdatetime) AS Crime_Count, crimeDescrFixed FROM crimeDescrClean_1 GROUP BY crimeDescrFixed ORDER BY Crime_Count DESC LIMIT 20\").show()\n"
   ]
  },
  {
   "cell_type": "markdown",
   "metadata": {},
   "source": [
    "**Understanding Crime Types (Cont.)**\n",
    "\n",
    "Not bad - I see we still have a little bit more data cleansing to do as there are remaining prefacing integers. If presenting this type of information to client stakeholders, we should ensure these are removed so intuitive assumptions can be made about the data; and, the analyzed data is as clear as possible. Let's leverage the *cast* command in *Spark SQL* to identify integers that preface a description, then remove these from the description with conditional logic:\n"
   ]
  },
  {
   "cell_type": "code",
   "execution_count": 22,
   "metadata": {},
   "outputs": [
    {
     "name": "stdout",
     "output_type": "stream",
     "text": [
      "+-----------+--------------------+\n",
      "|Crime_Count|     crimeDescrFixed|\n",
      "+-----------+--------------------+\n",
      "|        653|  TAKE VEH W/O OWNER|\n",
      "|        463|TOWED/STORED VEH-...|\n",
      "|        462|    BURGLARY VEHICLE|\n",
      "|        434|TOWED/STORED VEHICLE|\n",
      "|        356|  BURGLARY RESIDENCE|\n",
      "|        268|      MISSING PERSON|\n",
      "|        223|   AUTO THEFT LOCATE|\n",
      "|        195|(2)(A) VANDALISM/...|\n",
      "|        182|TRAFFIC-ACCIDENT ...|\n",
      "|        175|TRAFFIC-ACCIDENT-...|\n",
      "|        135|   BURGLARY BUSINESS|\n",
      "|        119| PETTY THEFT/LICE...|\n",
      "|        117|     VANDALISM +$400|\n",
      "|        116|      ASUALTY REPORT|\n",
      "|        106| WI DANGER SELF/O...|\n",
      "|        103|             HIT/RUN|\n",
      "|         99| HS POSS DRUG PARAPH|\n",
      "|         99| ROBBERY UNSPECIFIED|\n",
      "|         99|  PETTY THEFT/INSIDE|\n",
      "|         90|NON INJ HR/MAIL O...|\n",
      "+-----------+--------------------+\n",
      "\n"
     ]
    }
   ],
   "source": [
    "scSpark.sql(\"SELECT count(cdatetime) As Crime_Count, if(cast(substring(crimeDescrFixed,0,1) as int) IS NULL, crimeDescrFixed, substring(crimeDescrFixed,locate(' ', crimeDescrFixed))) AS crimeDescrFixed FROM crimeDescrClean_1 GROUP BY crimeDescrFixed ORDER BY Crime_Count DESC LIMIT 20\").show()\n",
    "descrSub_2 = scSpark.sql(\"SELECT crimedescr, if(cast(substring(crimeDescrFixed,0,1) as int) IS NULL, crimeDescrFixed, substring(crimeDescrFixed,locate(' ', crimeDescrFixed))) AS crimeDescrFixed, cdatetime, address, district, address FROM crimeDescrClean_1\")\n",
    "descrSub_2.createOrReplaceTempView(\"crimeDescrClean_2\")\n"
   ]
  },
  {
   "cell_type": "markdown",
   "metadata": {},
   "source": [
    "\n",
    "Just like that - we have a clean crime description column with little to no prefacing characters.. which ultimately removes obscurity in the meaning of the category. I've also initialized a new table with the cleanest possible descriptions. We could hypothetically write this dataframe as a new table to our workspace to use for later using *Spark's* write function.\n"
   ]
  },
  {
   "cell_type": "markdown",
   "metadata": {},
   "source": [
    "**Additional Analysis**\n",
    "\n",
    "Now that we've conducted some basic exploratory analysis, I'd like to see how *burglaries* occur throughout the month of January - (considering they are some of the most frequently committed crimes in this city). This will require some data cleansing / aggregation; luckily, PySpark includes a mapping to a pandas dataframe. Let's get started:"
   ]
  },
  {
   "cell_type": "code",
   "execution_count": 21,
   "metadata": {},
   "outputs": [
    {
     "name": "stdout",
     "output_type": "stream",
     "text": [
      "+--------------+------------+--------------------+\n",
      "|     cdatetime|dayCommitted|     crimeDescrFixed|\n",
      "+--------------+------------+--------------------+\n",
      "| 1/1/2006 0:00|  2006-01-01|  BURGLARY RESIDENCE|\n",
      "| 1/1/2006 0:00|  2006-01-01|BURGLARY-UNSPECIFIED|\n",
      "| 1/1/2006 0:00|  2006-01-01|    BURGLARY VEHICLE|\n",
      "| 1/1/2006 0:00|  2006-01-01|   BURGLARY BUSINESS|\n",
      "| 1/1/2006 0:01|  2006-01-01|    BURGLARY VEHICLE|\n",
      "| 1/1/2006 0:01|  2006-01-01|    BURGLARY VEHICLE|\n",
      "| 1/1/2006 0:01|  2006-01-01|  BURGLARY RESIDENCE|\n",
      "| 1/1/2006 0:36|  2006-01-01|   BURGLARY BUSINESS|\n",
      "| 1/1/2006 1:00|  2006-01-01|    BURGLARY VEHICLE|\n",
      "| 1/1/2006 1:00|  2006-01-01|    BURGLARY VEHICLE|\n",
      "| 1/1/2006 1:06|  2006-01-01|  BURGLARY RESIDENCE|\n",
      "| 1/1/2006 3:28|  2006-01-01|  BURGLARY RESIDENCE|\n",
      "| 1/1/2006 4:00|  2006-01-01|    BURGLARY VEHICLE|\n",
      "| 1/1/2006 4:00|  2006-01-01|    BURGLARY VEHICLE|\n",
      "| 1/1/2006 7:00|  2006-01-01|  BURGLARY RESIDENCE|\n",
      "| 1/1/2006 7:45|  2006-01-01|    BURGLARY VEHICLE|\n",
      "| 1/1/2006 8:00|  2006-01-01|   BURGLARY BUSINESS|\n",
      "|1/1/2006 10:00|  2006-01-01|    BURGLARY - I RPT|\n",
      "|1/1/2006 10:30|  2006-01-01|  BURGLARY RESIDENCE|\n",
      "|1/1/2006 11:00|  2006-01-01|  BURGLARY RESIDENCE|\n",
      "+--------------+------------+--------------------+\n",
      "only showing top 20 rows\n",
      "\n",
      "Aggregating filtered dataset into daily counts\n",
      "+--------------+------------+---------+\n",
      "|Burglary_Count|dayCommitted|DayofWeek|\n",
      "+--------------+------------+---------+\n",
      "|            33|  2006-01-01|        1|\n",
      "|            23|  2006-01-02|        2|\n",
      "|            39|  2006-01-03|        3|\n",
      "|            29|  2006-01-04|        4|\n",
      "|            38|  2006-01-05|        5|\n",
      "|            34|  2006-01-06|        6|\n",
      "|            46|  2006-01-07|        7|\n",
      "|            26|  2006-01-08|        1|\n",
      "|            32|  2006-01-09|        2|\n",
      "|            38|  2006-01-10|        3|\n",
      "|            41|  2006-01-11|        4|\n",
      "|            34|  2006-01-12|        5|\n",
      "|            45|  2006-01-13|        6|\n",
      "|            32|  2006-01-14|        7|\n",
      "|            17|  2006-01-15|        1|\n",
      "|            19|  2006-01-16|        2|\n",
      "|            34|  2006-01-17|        3|\n",
      "|            37|  2006-01-18|        4|\n",
      "|            31|  2006-01-19|        5|\n",
      "|            44|  2006-01-20|        6|\n",
      "+--------------+------------+---------+\n",
      "only showing top 20 rows\n",
      "\n"
     ]
    }
   ],
   "source": [
    "scSpark.sql(\"set spark.sql.legacy.timeParserPolicy=LEGACY\")\n",
    "dailyBurglary = scSpark.sql(\"SELECT cdatetime, TO_DATE(cast(UNIX_TIMESTAMP(substring(cdatetime,0,locate(' ', cdatetime) - 1), 'MM/dd/yyyy') AS TIMESTAMP)) as dayCommitted, crimeDescrFixed FROM crimeDescrClean_2 WHERE crimeDescrFixed LIKE '%BURGLARY%'\")\n",
    "dailyBurglary.show()\n",
    "dailyBurglaryAgg = scSpark.sql(\"SELECT cast(count(cdatetime) as int) As Burglary_Count, TO_DATE(cast(UNIX_TIMESTAMP(substring(cdatetime,0,locate(' ', cdatetime) - 1), 'MM/dd/yyyy') AS TIMESTAMP)) as dayCommitted, cast(dayofweek(TO_DATE(cast(UNIX_TIMESTAMP(substring(cdatetime,0,locate(' ', cdatetime) - 1), 'MM/dd/yyyy') AS TIMESTAMP))) as int) as DayofWeek FROM crimeDescrClean_2 WHERE crimeDescrFixed LIKE '%BURGLARY%' GROUP BY dayCommitted ORDER BY dayCommitted\")\n",
    "print(\"Aggregating filtered dataset into daily counts\")\n",
    "dailyBurglaryAgg.show()\n",
    "dailyBurglaryAgg.createOrReplaceTempView(\"dba\")\n",
    "\n",
    "dfBA = dailyBurglaryAgg.toPandas()"
   ]
  },
  {
   "cell_type": "code",
   "execution_count": 23,
   "metadata": {},
   "outputs": [
    {
     "data": {
      "image/png": "[encoded data removed]",
      "text/plain": [
       "<Figure size 432x288 with 1 Axes>"
      ]
     },
     "metadata": {
      "needs_background": "light"
     },
     "output_type": "display_data"
    }
   ],
   "source": [
    "dfBA.describe()\n",
    "plt.plot(dfBA['dayCommitted'],dfBA['Burglary_Count'])\n",
    "plt.title(\"Sacramento Burglary Count, Jan 2006\")\n",
    "_=plt.xticks(rotation=90) \n"
   ]
  },
  {
   "cell_type": "markdown",
   "metadata": {},
   "source": [
    "**Additional Analysis**\n",
    "\n",
    "This looks like burglaries happen in an almost weekly pattern; it appears there's an uptick, then a drop. Let's take one more further look:"
   ]
  },
  {
   "cell_type": "code",
   "execution_count": 19,
   "metadata": {},
   "outputs": [
    {
     "data": {
      "text/plain": [
       "Text(0.5, 0, 'Day of Week; 1 = Sunday, 2 = Monday, ...')"
      ]
     },
     "execution_count": 19,
     "metadata": {},
     "output_type": "execute_result"
    },
    {
     "data": {
      "image/png": "[encoded data removed]",
      "text/plain": [
       "<Figure size 432x288 with 1 Axes>"
      ]
     },
     "metadata": {
      "needs_background": "light"
     },
     "output_type": "display_data"
    }
   ],
   "source": [
    "dowB = scSpark.sql(\"SELECT avg(Burglary_Count) As Burglary_CountAVG, DayofWeek FROM dba GROUP BY DayofWeek ORDER BY DayofWeek\").toPandas()\n",
    "plt.plot(dowB['DayofWeek'],dowB['Burglary_CountAVG'])\n",
    "plt.title(\"Sacramento Burglary Avg by Day of Week, Jan 2006\")\n",
    "plt.xlabel(\"Day of Week; 1 = Sunday, 2 = Monday, ...\")"
   ]
  },
  {
   "cell_type": "markdown",
   "metadata": {},
   "source": [
    "\n",
    "\n",
    "It appears that burglaries start to pick up after **Monday**; and, the two most frequent days for burglarly are **Friday and Saturday**. This follows the time series pattern we just observed. Let's continue."
   ]
  },
  {
   "cell_type": "markdown",
   "metadata": {},
   "source": [
    "**Data Enrichment**\n",
    "\n",
    "I will continue with the same burglary subset of data, but also merge a *public Sacramento weather dataset* to further our analysis:\n"
   ]
  },
  {
   "cell_type": "code",
   "execution_count": 20,
   "metadata": {},
   "outputs": [
    {
     "name": "stdout",
     "output_type": "stream",
     "text": [
      "+---------+---+----+---+\n",
      "|     Date|Max| Avg|Min|\n",
      "+---------+---+----+---+\n",
      "| 1/1/2006| 57|51.2| 47|\n",
      "| 1/2/2006| 52|50.3| 46|\n",
      "| 1/3/2006| 55|50.5| 46|\n",
      "| 1/4/2006| 60|51.3| 46|\n",
      "| 1/5/2006| 62|46.9| 40|\n",
      "| 1/6/2006| 53|46.8| 39|\n",
      "| 1/7/2006| 61|53.2| 48|\n",
      "| 1/8/2006| 56|45.4| 38|\n",
      "| 1/9/2006| 57|43.6| 35|\n",
      "|1/10/2006| 56|42.8| 36|\n",
      "|1/11/2006| 55|49.6| 43|\n",
      "|1/12/2006| 55|48.2| 45|\n",
      "|1/13/2006| 55|51.4| 48|\n",
      "|1/14/2006| 54|50.2| 41|\n",
      "|1/15/2006| 53|43.9| 36|\n",
      "|1/16/2006| 53|45.8| 37|\n",
      "|1/17/2006| 55|  48| 41|\n",
      "|1/18/2006| 55|46.7| 39|\n",
      "|1/19/2006| 54|40.7| 34|\n",
      "|1/20/2006| 53|  40| 30|\n",
      "+---------+---+----+---+\n",
      "only showing top 20 rows\n",
      "\n",
      "+------------+----+\n",
      "|dayCommitted| Avg|\n",
      "+------------+----+\n",
      "|  2006-01-01|51.2|\n",
      "|  2006-01-02|50.3|\n",
      "|  2006-01-03|50.5|\n",
      "|  2006-01-04|51.3|\n",
      "|  2006-01-05|46.9|\n",
      "|  2006-01-06|46.8|\n",
      "|  2006-01-07|53.2|\n",
      "|  2006-01-08|45.4|\n",
      "|  2006-01-09|43.6|\n",
      "|  2006-01-10|42.8|\n",
      "|  2006-01-11|49.6|\n",
      "|  2006-01-12|48.2|\n",
      "|  2006-01-13|51.4|\n",
      "|  2006-01-14|50.2|\n",
      "|  2006-01-15|43.9|\n",
      "|  2006-01-16|45.8|\n",
      "|  2006-01-17|  48|\n",
      "|  2006-01-18|46.7|\n",
      "|  2006-01-19|40.7|\n",
      "|  2006-01-20|  40|\n",
      "+------------+----+\n",
      "only showing top 20 rows\n",
      "\n",
      "Merging the two datasets together with Apache Spark SQL\n"
     ]
    },
    {
     "data": {
      "text/html": [
       "<div>\n",
       "<style scoped>\n",
       "    .dataframe tbody tr th:only-of-type {\n",
       "        vertical-align: middle;\n",
       "    }\n",
       "\n",
       "    .dataframe tbody tr th {\n",
       "        vertical-align: top;\n",
       "    }\n",
       "\n",
       "    .dataframe thead th {\n",
       "        text-align: right;\n",
       "    }\n",
       "</style>\n",
       "<table border=\"1\" class=\"dataframe\">\n",
       "  <thead>\n",
       "    <tr style=\"text-align: right;\">\n",
       "      <th></th>\n",
       "      <th>dayCommitted</th>\n",
       "      <th>Avg</th>\n",
       "      <th>Burglary_Count</th>\n",
       "    </tr>\n",
       "  </thead>\n",
       "  <tbody>\n",
       "    <tr>\n",
       "      <th>0</th>\n",
       "      <td>2006-01-24</td>\n",
       "      <td>41</td>\n",
       "      <td>28</td>\n",
       "    </tr>\n",
       "    <tr>\n",
       "      <th>1</th>\n",
       "      <td>2006-01-22</td>\n",
       "      <td>48.6</td>\n",
       "      <td>25</td>\n",
       "    </tr>\n",
       "    <tr>\n",
       "      <th>2</th>\n",
       "      <td>2006-01-18</td>\n",
       "      <td>46.7</td>\n",
       "      <td>37</td>\n",
       "    </tr>\n",
       "    <tr>\n",
       "      <th>3</th>\n",
       "      <td>2006-01-20</td>\n",
       "      <td>40</td>\n",
       "      <td>44</td>\n",
       "    </tr>\n",
       "    <tr>\n",
       "      <th>4</th>\n",
       "      <td>2006-01-06</td>\n",
       "      <td>46.8</td>\n",
       "      <td>34</td>\n",
       "    </tr>\n",
       "  </tbody>\n",
       "</table>\n",
       "</div>"
      ],
      "text/plain": [
       "  dayCommitted   Avg  Burglary_Count\n",
       "0   2006-01-24    41              28\n",
       "1   2006-01-22  48.6              25\n",
       "2   2006-01-18  46.7              37\n",
       "3   2006-01-20    40              44\n",
       "4   2006-01-06  46.8              34"
      ]
     },
     "execution_count": 20,
     "metadata": {},
     "output_type": "execute_result"
    }
   ],
   "source": [
    "data_file = 'D:\\ThomasData\\Documents\\weather.csv'\n",
    "dfw = scSpark.read.csv(data_file, header=True, sep=\",\").cache()\n",
    "dfw.createOrReplaceTempView(\"weather\")\n",
    "dfw.show()\n",
    "dfw2 = scSpark.sql(\"SELECT TO_DATE(cast(UNIX_TIMESTAMP(Date, 'MM/dd/yyyy') AS TIMESTAMP)) as dayCommitted, Avg FROM weather\")\n",
    "dfw2.createOrReplaceTempView(\"weather\")\n",
    "dfw2.show()\n",
    "compare = scSpark.sql(\"SELECT weather.dayCommitted, weather.Avg, dba.Burglary_Count FROM weather, dba WHERE weather.dayCommitted = dba.dayCommitted\").toPandas()\n",
    "print(\"Merging the two datasets together with Apache Spark SQL\")\n",
    "compare.head()"
   ]
  },
  {
   "cell_type": "markdown",
   "metadata": {},
   "source": [
    "**Data Enrichment**\n",
    "\n",
    "Let's check to see if there is any correlation between the *average temperature* and the *number of burglaries* occuring on the same day:\n",
    "\n"
   ]
  },
  {
   "cell_type": "code",
   "execution_count": 17,
   "metadata": {},
   "outputs": [
    {
     "data": {
      "image/png": "[encoded data removed]",
      "text/plain": [
       "<Figure size 432x288 with 1 Axes>"
      ]
     },
     "metadata": {
      "needs_background": "light"
     },
     "output_type": "display_data"
    }
   ],
   "source": [
    "plt.scatter(compare['Avg'],compare['Burglary_Count'])\n",
    "plt.xlabel(\"Avg Temp\")\n",
    "plt.ylabel(\"Count of Burglaries\")\n",
    "_ = plt.xticks(rotation=90)"
   ]
  },
  {
   "cell_type": "markdown",
   "metadata": {},
   "source": [
    "**Analysis Conclusion**\n",
    "\n",
    "We've loaded, explored, cleaned, and enriched a full month of crime data occurring in Sacramento within January 2006 using Apache Spark via PySpark. We've understood a couple of key points:\n",
    "\n",
    "\n",
    "-The crime description comes with prefacing codes (which could be distracting in analysis), so we need to conduct robust data cleansing to drive further analysis\n",
    "\n",
    "-It appears there were a lot of vehicles taken without the owner present, burglaries, and theft in this city within this specific month \n",
    "\n",
    "-We did a case study on burglaries - noticing that burglaries happen more often on weekends (at least within this given sample / time period)\n",
    "\n",
    "-There is no correlation whatsoever between the average daily temperature and number of burglaries that occur on a day          "
   ]
  },
  {
   "cell_type": "markdown",
   "metadata": {},
   "source": [
    "*Kyle Thomas; Dec 2020*"
   ]
  },
  {
   "cell_type": "code",
   "execution_count": null,
   "metadata": {},
   "outputs": [],
   "source": []
  }
 ],
 "metadata": {
  "kernelspec": {
   "display_name": "Python 3",
   "language": "python",
   "name": "python3"
  },
  "language_info": {
   "codemirror_mode": {
    "name": "ipython",
    "version": 3
   },
   "file_extension": ".py",
   "mimetype": "text/x-python",
   "name": "python",
   "nbconvert_exporter": "python",
   "pygments_lexer": "ipython3",
   "version": "3.9.1"
  }
 },
 "nbformat": 4,
 "nbformat_minor": 4
}
